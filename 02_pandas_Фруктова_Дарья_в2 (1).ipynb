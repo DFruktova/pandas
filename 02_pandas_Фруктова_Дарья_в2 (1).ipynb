{
  "metadata": {
    "kernelspec": {
      "name": "python",
      "display_name": "Python (Pyodide)",
      "language": "python"
    },
    "language_info": {
      "codemirror_mode": {
        "name": "python",
        "version": 3
      },
      "file_extension": ".py",
      "mimetype": "text/x-python",
      "name": "python",
      "nbconvert_exporter": "python",
      "pygments_lexer": "ipython3",
      "version": "3.8"
    }
  },
  "nbformat_minor": 4,
  "nbformat": 4,
  "cells": [
    {
      "cell_type": "markdown",
      "source": "# Pandas",
      "metadata": {
        "tags": []
      }
    },
    {
      "cell_type": "markdown",
      "source": "## Лабораторная работа №2",
      "metadata": {}
    },
    {
      "cell_type": "markdown",
      "source": "### Базовые операции с `DataFrame`",
      "metadata": {}
    },
    {
      "cell_type": "markdown",
      "source": "1.1 В файлах `recipes_sample.csv` и `reviews_sample.csv` находится информация об рецептах блюд и отзывах на эти рецепты соответственно. Загрузите данные из файлов в виде `pd.DataFrame` с названиями `recipes` и `reviews`. Обратите внимание на корректное считывание столбца с индексами в таблице `reviews` (безымянный столбец).",
      "metadata": {}
    },
    {
      "cell_type": "code",
      "source": "import numpy as np\nimport pandas as pd\nrecipes = pd.read_csv('recipes_sample.csv', encoding='ISO-8859-1', parse_dates=['submitted']) \nreviews = pd.read_csv('reviews_sample.csv', delimiter=',', encoding='ISO-8859-1') \nrecipes['submitted']=pd.to_datetime(recipes['submitted'])",
      "metadata": {
        "tags": [],
        "trusted": true
      },
      "execution_count": 10,
      "outputs": []
    },
    {
      "cell_type": "markdown",
      "source": "1.2 Для каждой из таблиц выведите основные параметры:\n количество точек данных (строк);\n количество столбцов;\n тип данных каждого столбца.",
      "metadata": {
        "tags": []
      }
    },
    {
      "cell_type": "code",
      "source": "print('таблица Recipes: \\nколичество точек данных (строк):', recipes.shape[0], '\\nколичество столбцов:',  recipes.shape[1], 'тип данных каждого столбца:', recipes.dtypes)\nprint('таблица Reviews: \\nколичество точек данных (строк):', reviews.shape[0], '\\nколичество столбцов:',  reviews.shape[1], 'тип данных каждого столбца:', reviews.dtypes)",
      "metadata": {
        "trusted": true
      },
      "execution_count": 11,
      "outputs": [
        {
          "name": "stdout",
          "text": "таблица Recipes: \nколичество точек данных (строк): 30000 \nколичество столбцов: 8 тип данных каждого столбца: name                      object\nid                         int64\nminutes                    int64\ncontributor_id             int64\nsubmitted         datetime64[ns]\nn_steps                  float64\ndescription               object\nn_ingredients            float64\ndtype: object\nтаблица Reviews: \nколичество точек данных (строк): 126696 \nколичество столбцов: 6 тип данных каждого столбца: Unnamed: 0     int64\nuser_id        int64\nrecipe_id      int64\ndate          object\nrating         int64\nreview        object\ndtype: object\n",
          "output_type": "stream"
        }
      ]
    },
    {
      "cell_type": "markdown",
      "source": "1.3 Исследуйте, в каких столбцах таблиц содержатся пропуски. Посчитайте долю строк, содержащих пропуски, в отношении к общему количеству строк.",
      "metadata": {}
    },
    {
      "cell_type": "code",
      "source": "#количество пропусков в таблицах\nprint(recipes.isnull().sum ())\nprint(reviews.isnull().sum ())",
      "metadata": {
        "trusted": true
      },
      "execution_count": 12,
      "outputs": [
        {
          "name": "stdout",
          "text": "name                  0\nid                    0\nminutes               0\ncontributor_id        0\nsubmitted             0\nn_steps           11190\ndescription         623\nn_ingredients      8880\ndtype: int64\nUnnamed: 0     0\nuser_id        0\nrecipe_id      0\ndate           0\nrating         0\nreview        17\ndtype: int64\n",
          "output_type": "stream"
        }
      ]
    },
    {
      "cell_type": "code",
      "source": "#Доля пропусков в таблицах\nprint(recipes.isna().sum()/ len(recipes) * 100)\nprint(reviews.isna().sum() / len(reviews) * 100)",
      "metadata": {
        "trusted": true
      },
      "execution_count": 13,
      "outputs": [
        {
          "name": "stdout",
          "text": "name               0.000000\nid                 0.000000\nminutes            0.000000\ncontributor_id     0.000000\nsubmitted          0.000000\nn_steps           37.300000\ndescription        2.076667\nn_ingredients     29.600000\ndtype: float64\nUnnamed: 0    0.000000\nuser_id       0.000000\nrecipe_id     0.000000\ndate          0.000000\nrating        0.000000\nreview        0.013418\ndtype: float64\n",
          "output_type": "stream"
        }
      ]
    },
    {
      "cell_type": "markdown",
      "source": "1.4 Рассчитайте среднее значение для каждого из числовых столбцов (где это имеет смысл).",
      "metadata": {}
    },
    {
      "cell_type": "code",
      "source": "print('Recipes:\\n', recipes.mean(numeric_only=True))\n\nprint('Reviews:', reviews.mean(numeric_only=True))\n",
      "metadata": {
        "trusted": true
      },
      "execution_count": 14,
      "outputs": [
        {
          "name": "stdout",
          "text": "Recipes:\n id                2.218793e+05\nminutes           1.233581e+02\ncontributor_id    5.635901e+06\nn_steps           9.805582e+00\nn_ingredients     9.008286e+00\ndtype: float64\nReviews: Unnamed: 0    5.660898e+05\nuser_id       1.408013e+08\nrecipe_id     1.600944e+05\nrating        4.410802e+00\ndtype: float64\n",
          "output_type": "stream"
        }
      ]
    },
    {
      "cell_type": "markdown",
      "source": "1.5 Создайте серию из 10 случайных названий рецептов.",
      "metadata": {}
    },
    {
      "cell_type": "code",
      "source": "recipes['name'].sample(10)",
      "metadata": {
        "trusted": true
      },
      "execution_count": 15,
      "outputs": [
        {
          "execution_count": 15,
          "output_type": "execute_result",
          "data": {
            "text/plain": "25857           steamed asparagus with ginger garlic sauce\n1988                   baked spinach   artichoke casserole\n7982                                cranberry thyme salmon\n1121                                     armenian potatoes\n15747                                      leek cream soup\n2280                                 barbecue pearl onions\n8706     crock pot southern style barbecue green beans ...\n17723                              mini chocolate pancakes\n11833                                 garlic dill crackers\n8953                                curried beef dumplings\nName: name, dtype: object"
          },
          "metadata": {}
        }
      ]
    },
    {
      "cell_type": "markdown",
      "source": "1.6 Измените индекс в таблице `reviews`, пронумеровав строки, начиная с нуля.",
      "metadata": {}
    },
    {
      "cell_type": "code",
      "source": "reviews = reviews.reset_index()\nreviews",
      "metadata": {
        "trusted": true
      },
      "execution_count": 16,
      "outputs": [
        {
          "execution_count": 16,
          "output_type": "execute_result",
          "data": {
            "text/plain": "         index  Unnamed: 0     user_id  recipe_id        date  rating  \\\n0            0      370476       21752      57993  2003-05-01       5   \n1            1      624300      431813     142201  2007-09-16       5   \n2            2      187037      400708     252013  2008-01-10       4   \n3            3      706134  2001852463     404716  2017-12-11       5   \n4            4      312179       95810     129396  2008-03-14       5   \n...        ...         ...         ...        ...         ...     ...   \n126691  126691     1013457     1270706     335534  2009-05-17       4   \n126692  126692      158736     2282344       8701  2012-06-03       0   \n126693  126693     1059834      689540     222001  2008-04-08       5   \n126694  126694      453285  2000242659     354979  2015-06-02       5   \n126695  126695      691207      463435     415599  2010-09-30       5   \n\n                                                   review  \n0       Last week whole sides of frozen salmon fillet ...  \n1       So simple and so tasty!  I used a yellow capsi...  \n2       Very nice breakfast HH, easy to make and yummy...  \n3       These are a favorite for the holidays and so e...  \n4       Excellent soup!  The tomato flavor is just gre...  \n...                                                   ...  \n126691  This recipe was great! I made it last night. I...  \n126692  This recipe is outstanding. I followed the rec...  \n126693  Well, we were not a crowd but it was a fabulou...  \n126694  I have been a steak eater and dedicated BBQ gr...  \n126695  Wonderful and simple to prepare seasoning blen...  \n\n[126696 rows x 7 columns]",
            "text/html": "<div>\n<style scoped>\n    .dataframe tbody tr th:only-of-type {\n        vertical-align: middle;\n    }\n\n    .dataframe tbody tr th {\n        vertical-align: top;\n    }\n\n    .dataframe thead th {\n        text-align: right;\n    }\n</style>\n<table border=\"1\" class=\"dataframe\">\n  <thead>\n    <tr style=\"text-align: right;\">\n      <th></th>\n      <th>index</th>\n      <th>Unnamed: 0</th>\n      <th>user_id</th>\n      <th>recipe_id</th>\n      <th>date</th>\n      <th>rating</th>\n      <th>review</th>\n    </tr>\n  </thead>\n  <tbody>\n    <tr>\n      <th>0</th>\n      <td>0</td>\n      <td>370476</td>\n      <td>21752</td>\n      <td>57993</td>\n      <td>2003-05-01</td>\n      <td>5</td>\n      <td>Last week whole sides of frozen salmon fillet ...</td>\n    </tr>\n    <tr>\n      <th>1</th>\n      <td>1</td>\n      <td>624300</td>\n      <td>431813</td>\n      <td>142201</td>\n      <td>2007-09-16</td>\n      <td>5</td>\n      <td>So simple and so tasty!  I used a yellow capsi...</td>\n    </tr>\n    <tr>\n      <th>2</th>\n      <td>2</td>\n      <td>187037</td>\n      <td>400708</td>\n      <td>252013</td>\n      <td>2008-01-10</td>\n      <td>4</td>\n      <td>Very nice breakfast HH, easy to make and yummy...</td>\n    </tr>\n    <tr>\n      <th>3</th>\n      <td>3</td>\n      <td>706134</td>\n      <td>2001852463</td>\n      <td>404716</td>\n      <td>2017-12-11</td>\n      <td>5</td>\n      <td>These are a favorite for the holidays and so e...</td>\n    </tr>\n    <tr>\n      <th>4</th>\n      <td>4</td>\n      <td>312179</td>\n      <td>95810</td>\n      <td>129396</td>\n      <td>2008-03-14</td>\n      <td>5</td>\n      <td>Excellent soup!  The tomato flavor is just gre...</td>\n    </tr>\n    <tr>\n      <th>...</th>\n      <td>...</td>\n      <td>...</td>\n      <td>...</td>\n      <td>...</td>\n      <td>...</td>\n      <td>...</td>\n      <td>...</td>\n    </tr>\n    <tr>\n      <th>126691</th>\n      <td>126691</td>\n      <td>1013457</td>\n      <td>1270706</td>\n      <td>335534</td>\n      <td>2009-05-17</td>\n      <td>4</td>\n      <td>This recipe was great! I made it last night. I...</td>\n    </tr>\n    <tr>\n      <th>126692</th>\n      <td>126692</td>\n      <td>158736</td>\n      <td>2282344</td>\n      <td>8701</td>\n      <td>2012-06-03</td>\n      <td>0</td>\n      <td>This recipe is outstanding. I followed the rec...</td>\n    </tr>\n    <tr>\n      <th>126693</th>\n      <td>126693</td>\n      <td>1059834</td>\n      <td>689540</td>\n      <td>222001</td>\n      <td>2008-04-08</td>\n      <td>5</td>\n      <td>Well, we were not a crowd but it was a fabulou...</td>\n    </tr>\n    <tr>\n      <th>126694</th>\n      <td>126694</td>\n      <td>453285</td>\n      <td>2000242659</td>\n      <td>354979</td>\n      <td>2015-06-02</td>\n      <td>5</td>\n      <td>I have been a steak eater and dedicated BBQ gr...</td>\n    </tr>\n    <tr>\n      <th>126695</th>\n      <td>126695</td>\n      <td>691207</td>\n      <td>463435</td>\n      <td>415599</td>\n      <td>2010-09-30</td>\n      <td>5</td>\n      <td>Wonderful and simple to prepare seasoning blen...</td>\n    </tr>\n  </tbody>\n</table>\n<p>126696 rows × 7 columns</p>\n</div>"
          },
          "metadata": {}
        }
      ]
    },
    {
      "cell_type": "markdown",
      "source": "1.7 Выведите информацию о рецептах, время выполнения которых не больше 20 минут и кол-во ингредиентов в которых не больше 5.",
      "metadata": {}
    },
    {
      "cell_type": "code",
      "source": "simple_recipes = recipes[(recipes['minutes']<=20) & (recipes['n_ingredients']<=5)]\nsimple_recipes",
      "metadata": {
        "trusted": true
      },
      "execution_count": 20,
      "outputs": [
        {
          "execution_count": 20,
          "output_type": "execute_result",
          "data": {
            "text/plain": "                                                    name      id  minutes  \\\n28                                   quick biscuit bread  302399       20   \n60                         peas  fit for a king or queen  303944       20   \n90                     hawaiian sunrise           mimosa  100837        5   \n91            tasty dish s   banana pudding in 2 minutes  286484        2   \n94                                    1 minute meatballs   11361       13   \n...                                                  ...     ...      ...   \n29873  zip and steam red potatoes with butter and garlic  304922       13   \n29874                          ziplock vanilla ice cream   74250       10   \n29905                      zucchini and corn with cheese  256177       15   \n29980               zucchini with jalapeno monterey jack  320622       10   \n29983                          zucchini with serrano ham  162411       15   \n\n       contributor_id  submitted  n_steps  \\\n28             213909 2008-05-06     11.0   \n60             213909 2008-05-16      NaN   \n90              58104 2004-09-29      4.0   \n91              47892 2008-02-13      NaN   \n94               4470 2001-09-03      NaN   \n...               ...        ...      ...   \n29873          724218 2008-05-27      9.0   \n29874           24386 2003-10-29      8.0   \n29905          305531 2007-09-29      4.0   \n29980          305531 2008-08-20      3.0   \n29983          152500 2006-03-31      6.0   \n\n                                             description  n_ingredients  \n28     this is a wonderful quick bread to make as an ...            5.0  \n60     this recipe is so simple and the flavors are s...            5.0  \n90     pineapple mimosa was changed to hawaiian sunri...            3.0  \n91     \"mmmm, i love bananas!\" a --tasty dish-- origi...            4.0  \n94     this is a real short cut for cooks in a hurry....            2.0  \n...                                                  ...            ...  \n29873  i haven't tried this yet, but i am going to so...            5.0  \n29874  a fun thing for kids to do. may want to use mi...            3.0  \n29905  from betty crocker fresh spring recipes. i lik...            5.0  \n29980                                  simple and yummy!            3.0  \n29983  this dish is from tim malzer, a german chef wh...            5.0  \n\n[2019 rows x 8 columns]",
            "text/html": "<div>\n<style scoped>\n    .dataframe tbody tr th:only-of-type {\n        vertical-align: middle;\n    }\n\n    .dataframe tbody tr th {\n        vertical-align: top;\n    }\n\n    .dataframe thead th {\n        text-align: right;\n    }\n</style>\n<table border=\"1\" class=\"dataframe\">\n  <thead>\n    <tr style=\"text-align: right;\">\n      <th></th>\n      <th>name</th>\n      <th>id</th>\n      <th>minutes</th>\n      <th>contributor_id</th>\n      <th>submitted</th>\n      <th>n_steps</th>\n      <th>description</th>\n      <th>n_ingredients</th>\n    </tr>\n  </thead>\n  <tbody>\n    <tr>\n      <th>28</th>\n      <td>quick biscuit bread</td>\n      <td>302399</td>\n      <td>20</td>\n      <td>213909</td>\n      <td>2008-05-06</td>\n      <td>11.0</td>\n      <td>this is a wonderful quick bread to make as an ...</td>\n      <td>5.0</td>\n    </tr>\n    <tr>\n      <th>60</th>\n      <td>peas  fit for a king or queen</td>\n      <td>303944</td>\n      <td>20</td>\n      <td>213909</td>\n      <td>2008-05-16</td>\n      <td>NaN</td>\n      <td>this recipe is so simple and the flavors are s...</td>\n      <td>5.0</td>\n    </tr>\n    <tr>\n      <th>90</th>\n      <td>hawaiian sunrise           mimosa</td>\n      <td>100837</td>\n      <td>5</td>\n      <td>58104</td>\n      <td>2004-09-29</td>\n      <td>4.0</td>\n      <td>pineapple mimosa was changed to hawaiian sunri...</td>\n      <td>3.0</td>\n    </tr>\n    <tr>\n      <th>91</th>\n      <td>tasty dish s   banana pudding in 2 minutes</td>\n      <td>286484</td>\n      <td>2</td>\n      <td>47892</td>\n      <td>2008-02-13</td>\n      <td>NaN</td>\n      <td>\"mmmm, i love bananas!\" a --tasty dish-- origi...</td>\n      <td>4.0</td>\n    </tr>\n    <tr>\n      <th>94</th>\n      <td>1 minute meatballs</td>\n      <td>11361</td>\n      <td>13</td>\n      <td>4470</td>\n      <td>2001-09-03</td>\n      <td>NaN</td>\n      <td>this is a real short cut for cooks in a hurry....</td>\n      <td>2.0</td>\n    </tr>\n    <tr>\n      <th>...</th>\n      <td>...</td>\n      <td>...</td>\n      <td>...</td>\n      <td>...</td>\n      <td>...</td>\n      <td>...</td>\n      <td>...</td>\n      <td>...</td>\n    </tr>\n    <tr>\n      <th>29873</th>\n      <td>zip and steam red potatoes with butter and garlic</td>\n      <td>304922</td>\n      <td>13</td>\n      <td>724218</td>\n      <td>2008-05-27</td>\n      <td>9.0</td>\n      <td>i haven't tried this yet, but i am going to so...</td>\n      <td>5.0</td>\n    </tr>\n    <tr>\n      <th>29874</th>\n      <td>ziplock vanilla ice cream</td>\n      <td>74250</td>\n      <td>10</td>\n      <td>24386</td>\n      <td>2003-10-29</td>\n      <td>8.0</td>\n      <td>a fun thing for kids to do. may want to use mi...</td>\n      <td>3.0</td>\n    </tr>\n    <tr>\n      <th>29905</th>\n      <td>zucchini and corn with cheese</td>\n      <td>256177</td>\n      <td>15</td>\n      <td>305531</td>\n      <td>2007-09-29</td>\n      <td>4.0</td>\n      <td>from betty crocker fresh spring recipes. i lik...</td>\n      <td>5.0</td>\n    </tr>\n    <tr>\n      <th>29980</th>\n      <td>zucchini with jalapeno monterey jack</td>\n      <td>320622</td>\n      <td>10</td>\n      <td>305531</td>\n      <td>2008-08-20</td>\n      <td>3.0</td>\n      <td>simple and yummy!</td>\n      <td>3.0</td>\n    </tr>\n    <tr>\n      <th>29983</th>\n      <td>zucchini with serrano ham</td>\n      <td>162411</td>\n      <td>15</td>\n      <td>152500</td>\n      <td>2006-03-31</td>\n      <td>6.0</td>\n      <td>this dish is from tim malzer, a german chef wh...</td>\n      <td>5.0</td>\n    </tr>\n  </tbody>\n</table>\n<p>2019 rows × 8 columns</p>\n</div>"
          },
          "metadata": {}
        }
      ]
    },
    {
      "cell_type": "markdown",
      "source": "### Работа с датами в `pandas`",
      "metadata": {}
    },
    {
      "cell_type": "markdown",
      "source": "2.1 Преобразуйте столбец `submitted` из таблицы `recipes` в формат времени. Модифицируйте решение задачи 1.1 так, чтобы считать столбец сразу в нужном формате.",
      "metadata": {}
    },
    {
      "cell_type": "code",
      "source": "#1.1 изменен",
      "metadata": {
        "trusted": true
      },
      "execution_count": 18,
      "outputs": []
    },
    {
      "cell_type": "markdown",
      "source": "2.2 Выведите информацию о рецептах, добавленных в датасет не позже 2010 года.",
      "metadata": {}
    },
    {
      "cell_type": "code",
      "source": "recipes[recipes['submitted']<'2011-01-01']",
      "metadata": {
        "trusted": true
      },
      "execution_count": 24,
      "outputs": [
        {
          "execution_count": 24,
          "output_type": "execute_result",
          "data": {
            "text/plain": "                                               name      id  minutes  \\\n0             george s at the cove  black bean soup   44123       90   \n1                healthy for them  yogurt popsicles   67664       10   \n2                      i can t believe it s spinach   38798       30   \n3                              italian  gut busters   35173       45   \n4          love is in the air  beef fondue   sauces   84797       25   \n...                                             ...     ...      ...   \n29993                     zuni caf zucchini pickles  316950     2895   \n29995  zurie s holey rustic olive and cheddar bread  267661       80   \n29996          zwetschgenkuchen  bavarian plum cake  386977      240   \n29997   zwiebelkuchen   southwest german onion cake  103312       75   \n29999        cookies by design   cookies on a stick  298512       29   \n\n       contributor_id  submitted  n_steps  \\\n0               35193 2002-10-25      NaN   \n1               91970 2003-07-26      NaN   \n2                1533 2002-08-29      NaN   \n3               22724 2002-07-27      NaN   \n4                4470 2004-02-23      4.0   \n...               ...        ...      ...   \n29993           62264 2008-07-31      NaN   \n29995          200862 2007-11-25     16.0   \n29996          177443 2009-08-24      NaN   \n29997          161745 2004-11-03      NaN   \n29999          506822 2008-04-15      9.0   \n\n                                             description  n_ingredients  \n0      an original recipe created by chef scott meska...           18.0  \n1      my children and their friends ask for my homem...            NaN  \n2                these were so go, it surprised even me.            8.0  \n3      my sister-in-law made these for us at a family...            NaN  \n4      i think a fondue is a very romantic casual din...            NaN  \n...                                                  ...            ...  \n29993  refrigerator pickles for some of the zucchini ...            8.0  \n29995  this is based on a french recipe but i changed...           10.0  \n29996  this is a traditional fresh plum cake, thought...           11.0  \n29997  this is a traditional late summer early fall s...            NaN  \n29999  i've heard of the 'cookies by design' company,...           10.0  \n\n[27661 rows x 8 columns]",
            "text/html": "<div>\n<style scoped>\n    .dataframe tbody tr th:only-of-type {\n        vertical-align: middle;\n    }\n\n    .dataframe tbody tr th {\n        vertical-align: top;\n    }\n\n    .dataframe thead th {\n        text-align: right;\n    }\n</style>\n<table border=\"1\" class=\"dataframe\">\n  <thead>\n    <tr style=\"text-align: right;\">\n      <th></th>\n      <th>name</th>\n      <th>id</th>\n      <th>minutes</th>\n      <th>contributor_id</th>\n      <th>submitted</th>\n      <th>n_steps</th>\n      <th>description</th>\n      <th>n_ingredients</th>\n    </tr>\n  </thead>\n  <tbody>\n    <tr>\n      <th>0</th>\n      <td>george s at the cove  black bean soup</td>\n      <td>44123</td>\n      <td>90</td>\n      <td>35193</td>\n      <td>2002-10-25</td>\n      <td>NaN</td>\n      <td>an original recipe created by chef scott meska...</td>\n      <td>18.0</td>\n    </tr>\n    <tr>\n      <th>1</th>\n      <td>healthy for them  yogurt popsicles</td>\n      <td>67664</td>\n      <td>10</td>\n      <td>91970</td>\n      <td>2003-07-26</td>\n      <td>NaN</td>\n      <td>my children and their friends ask for my homem...</td>\n      <td>NaN</td>\n    </tr>\n    <tr>\n      <th>2</th>\n      <td>i can t believe it s spinach</td>\n      <td>38798</td>\n      <td>30</td>\n      <td>1533</td>\n      <td>2002-08-29</td>\n      <td>NaN</td>\n      <td>these were so go, it surprised even me.</td>\n      <td>8.0</td>\n    </tr>\n    <tr>\n      <th>3</th>\n      <td>italian  gut busters</td>\n      <td>35173</td>\n      <td>45</td>\n      <td>22724</td>\n      <td>2002-07-27</td>\n      <td>NaN</td>\n      <td>my sister-in-law made these for us at a family...</td>\n      <td>NaN</td>\n    </tr>\n    <tr>\n      <th>4</th>\n      <td>love is in the air  beef fondue   sauces</td>\n      <td>84797</td>\n      <td>25</td>\n      <td>4470</td>\n      <td>2004-02-23</td>\n      <td>4.0</td>\n      <td>i think a fondue is a very romantic casual din...</td>\n      <td>NaN</td>\n    </tr>\n    <tr>\n      <th>...</th>\n      <td>...</td>\n      <td>...</td>\n      <td>...</td>\n      <td>...</td>\n      <td>...</td>\n      <td>...</td>\n      <td>...</td>\n      <td>...</td>\n    </tr>\n    <tr>\n      <th>29993</th>\n      <td>zuni caf zucchini pickles</td>\n      <td>316950</td>\n      <td>2895</td>\n      <td>62264</td>\n      <td>2008-07-31</td>\n      <td>NaN</td>\n      <td>refrigerator pickles for some of the zucchini ...</td>\n      <td>8.0</td>\n    </tr>\n    <tr>\n      <th>29995</th>\n      <td>zurie s holey rustic olive and cheddar bread</td>\n      <td>267661</td>\n      <td>80</td>\n      <td>200862</td>\n      <td>2007-11-25</td>\n      <td>16.0</td>\n      <td>this is based on a french recipe but i changed...</td>\n      <td>10.0</td>\n    </tr>\n    <tr>\n      <th>29996</th>\n      <td>zwetschgenkuchen  bavarian plum cake</td>\n      <td>386977</td>\n      <td>240</td>\n      <td>177443</td>\n      <td>2009-08-24</td>\n      <td>NaN</td>\n      <td>this is a traditional fresh plum cake, thought...</td>\n      <td>11.0</td>\n    </tr>\n    <tr>\n      <th>29997</th>\n      <td>zwiebelkuchen   southwest german onion cake</td>\n      <td>103312</td>\n      <td>75</td>\n      <td>161745</td>\n      <td>2004-11-03</td>\n      <td>NaN</td>\n      <td>this is a traditional late summer early fall s...</td>\n      <td>NaN</td>\n    </tr>\n    <tr>\n      <th>29999</th>\n      <td>cookies by design   cookies on a stick</td>\n      <td>298512</td>\n      <td>29</td>\n      <td>506822</td>\n      <td>2008-04-15</td>\n      <td>9.0</td>\n      <td>i've heard of the 'cookies by design' company,...</td>\n      <td>10.0</td>\n    </tr>\n  </tbody>\n</table>\n<p>27661 rows × 8 columns</p>\n</div>"
          },
          "metadata": {}
        }
      ]
    },
    {
      "cell_type": "markdown",
      "source": "### Работа со строковыми данными в `pandas`",
      "metadata": {}
    },
    {
      "cell_type": "markdown",
      "source": "3.1  Добавьте в таблицу `recipes` столбец `description_length`, в котором хранится длина описания рецепта из столбца `description`.",
      "metadata": {}
    },
    {
      "cell_type": "code",
      "source": "recipes['description_length'] = recipes['description'].str.len()\nrecipes",
      "metadata": {
        "trusted": true
      },
      "execution_count": 27,
      "outputs": [
        {
          "execution_count": 27,
          "output_type": "execute_result",
          "data": {
            "text/plain": "                                               name      id  minutes  \\\n0             george s at the cove  black bean soup   44123       90   \n1                healthy for them  yogurt popsicles   67664       10   \n2                      i can t believe it s spinach   38798       30   \n3                              italian  gut busters   35173       45   \n4          love is in the air  beef fondue   sauces   84797       25   \n...                                             ...     ...      ...   \n29995  zurie s holey rustic olive and cheddar bread  267661       80   \n29996          zwetschgenkuchen  bavarian plum cake  386977      240   \n29997   zwiebelkuchen   southwest german onion cake  103312       75   \n29998                                   zydeco soup  486161       60   \n29999        cookies by design   cookies on a stick  298512       29   \n\n       contributor_id  submitted  n_steps  \\\n0               35193 2002-10-25      NaN   \n1               91970 2003-07-26      NaN   \n2                1533 2002-08-29      NaN   \n3               22724 2002-07-27      NaN   \n4                4470 2004-02-23      4.0   \n...               ...        ...      ...   \n29995          200862 2007-11-25     16.0   \n29996          177443 2009-08-24      NaN   \n29997          161745 2004-11-03      NaN   \n29998          227978 2012-08-29      NaN   \n29999          506822 2008-04-15      9.0   \n\n                                             description  n_ingredients  \\\n0      an original recipe created by chef scott meska...           18.0   \n1      my children and their friends ask for my homem...            NaN   \n2                these were so go, it surprised even me.            8.0   \n3      my sister-in-law made these for us at a family...            NaN   \n4      i think a fondue is a very romantic casual din...            NaN   \n...                                                  ...            ...   \n29995  this is based on a french recipe but i changed...           10.0   \n29996  this is a traditional fresh plum cake, thought...           11.0   \n29997  this is a traditional late summer early fall s...            NaN   \n29998  this is a delicious soup that i originally fou...            NaN   \n29999  i've heard of the 'cookies by design' company,...           10.0   \n\n       description_length  \n0                     330  \n1                     255  \n2                      39  \n3                     154  \n4                     587  \n...                   ...  \n29995                 484  \n29996                 286  \n29997                 311  \n29998                 648  \n29999                 125  \n\n[30000 rows x 9 columns]",
            "text/html": "<div>\n<style scoped>\n    .dataframe tbody tr th:only-of-type {\n        vertical-align: middle;\n    }\n\n    .dataframe tbody tr th {\n        vertical-align: top;\n    }\n\n    .dataframe thead th {\n        text-align: right;\n    }\n</style>\n<table border=\"1\" class=\"dataframe\">\n  <thead>\n    <tr style=\"text-align: right;\">\n      <th></th>\n      <th>name</th>\n      <th>id</th>\n      <th>minutes</th>\n      <th>contributor_id</th>\n      <th>submitted</th>\n      <th>n_steps</th>\n      <th>description</th>\n      <th>n_ingredients</th>\n      <th>description_length</th>\n    </tr>\n  </thead>\n  <tbody>\n    <tr>\n      <th>0</th>\n      <td>george s at the cove  black bean soup</td>\n      <td>44123</td>\n      <td>90</td>\n      <td>35193</td>\n      <td>2002-10-25</td>\n      <td>NaN</td>\n      <td>an original recipe created by chef scott meska...</td>\n      <td>18.0</td>\n      <td>330</td>\n    </tr>\n    <tr>\n      <th>1</th>\n      <td>healthy for them  yogurt popsicles</td>\n      <td>67664</td>\n      <td>10</td>\n      <td>91970</td>\n      <td>2003-07-26</td>\n      <td>NaN</td>\n      <td>my children and their friends ask for my homem...</td>\n      <td>NaN</td>\n      <td>255</td>\n    </tr>\n    <tr>\n      <th>2</th>\n      <td>i can t believe it s spinach</td>\n      <td>38798</td>\n      <td>30</td>\n      <td>1533</td>\n      <td>2002-08-29</td>\n      <td>NaN</td>\n      <td>these were so go, it surprised even me.</td>\n      <td>8.0</td>\n      <td>39</td>\n    </tr>\n    <tr>\n      <th>3</th>\n      <td>italian  gut busters</td>\n      <td>35173</td>\n      <td>45</td>\n      <td>22724</td>\n      <td>2002-07-27</td>\n      <td>NaN</td>\n      <td>my sister-in-law made these for us at a family...</td>\n      <td>NaN</td>\n      <td>154</td>\n    </tr>\n    <tr>\n      <th>4</th>\n      <td>love is in the air  beef fondue   sauces</td>\n      <td>84797</td>\n      <td>25</td>\n      <td>4470</td>\n      <td>2004-02-23</td>\n      <td>4.0</td>\n      <td>i think a fondue is a very romantic casual din...</td>\n      <td>NaN</td>\n      <td>587</td>\n    </tr>\n    <tr>\n      <th>...</th>\n      <td>...</td>\n      <td>...</td>\n      <td>...</td>\n      <td>...</td>\n      <td>...</td>\n      <td>...</td>\n      <td>...</td>\n      <td>...</td>\n      <td>...</td>\n    </tr>\n    <tr>\n      <th>29995</th>\n      <td>zurie s holey rustic olive and cheddar bread</td>\n      <td>267661</td>\n      <td>80</td>\n      <td>200862</td>\n      <td>2007-11-25</td>\n      <td>16.0</td>\n      <td>this is based on a french recipe but i changed...</td>\n      <td>10.0</td>\n      <td>484</td>\n    </tr>\n    <tr>\n      <th>29996</th>\n      <td>zwetschgenkuchen  bavarian plum cake</td>\n      <td>386977</td>\n      <td>240</td>\n      <td>177443</td>\n      <td>2009-08-24</td>\n      <td>NaN</td>\n      <td>this is a traditional fresh plum cake, thought...</td>\n      <td>11.0</td>\n      <td>286</td>\n    </tr>\n    <tr>\n      <th>29997</th>\n      <td>zwiebelkuchen   southwest german onion cake</td>\n      <td>103312</td>\n      <td>75</td>\n      <td>161745</td>\n      <td>2004-11-03</td>\n      <td>NaN</td>\n      <td>this is a traditional late summer early fall s...</td>\n      <td>NaN</td>\n      <td>311</td>\n    </tr>\n    <tr>\n      <th>29998</th>\n      <td>zydeco soup</td>\n      <td>486161</td>\n      <td>60</td>\n      <td>227978</td>\n      <td>2012-08-29</td>\n      <td>NaN</td>\n      <td>this is a delicious soup that i originally fou...</td>\n      <td>NaN</td>\n      <td>648</td>\n    </tr>\n    <tr>\n      <th>29999</th>\n      <td>cookies by design   cookies on a stick</td>\n      <td>298512</td>\n      <td>29</td>\n      <td>506822</td>\n      <td>2008-04-15</td>\n      <td>9.0</td>\n      <td>i've heard of the 'cookies by design' company,...</td>\n      <td>10.0</td>\n      <td>125</td>\n    </tr>\n  </tbody>\n</table>\n<p>30000 rows × 9 columns</p>\n</div>"
          },
          "metadata": {}
        }
      ]
    },
    {
      "cell_type": "markdown",
      "source": "3.2 Измените название каждого рецепта в таблице `recipes` таким образом, чтобы каждое слово в названии начиналось с прописной буквы.",
      "metadata": {}
    },
    {
      "cell_type": "code",
      "source": "recipes['name'] = recipes['name'].str.title()\nrecipes",
      "metadata": {
        "trusted": true
      },
      "execution_count": 28,
      "outputs": [
        {
          "execution_count": 28,
          "output_type": "execute_result",
          "data": {
            "text/plain": "                                               name      id  minutes  \\\n0             George S At The Cove  Black Bean Soup   44123       90   \n1                Healthy For Them  Yogurt Popsicles   67664       10   \n2                      I Can T Believe It S Spinach   38798       30   \n3                              Italian  Gut Busters   35173       45   \n4          Love Is In The Air  Beef Fondue   Sauces   84797       25   \n...                                             ...     ...      ...   \n29995  Zurie S Holey Rustic Olive And Cheddar Bread  267661       80   \n29996          Zwetschgenkuchen  Bavarian Plum Cake  386977      240   \n29997   Zwiebelkuchen   Southwest German Onion Cake  103312       75   \n29998                                   Zydeco Soup  486161       60   \n29999        Cookies By Design   Cookies On A Stick  298512       29   \n\n       contributor_id  submitted  n_steps  \\\n0               35193 2002-10-25      NaN   \n1               91970 2003-07-26      NaN   \n2                1533 2002-08-29      NaN   \n3               22724 2002-07-27      NaN   \n4                4470 2004-02-23      4.0   \n...               ...        ...      ...   \n29995          200862 2007-11-25     16.0   \n29996          177443 2009-08-24      NaN   \n29997          161745 2004-11-03      NaN   \n29998          227978 2012-08-29      NaN   \n29999          506822 2008-04-15      9.0   \n\n                                             description  n_ingredients  \\\n0      an original recipe created by chef scott meska...           18.0   \n1      my children and their friends ask for my homem...            NaN   \n2                these were so go, it surprised even me.            8.0   \n3      my sister-in-law made these for us at a family...            NaN   \n4      i think a fondue is a very romantic casual din...            NaN   \n...                                                  ...            ...   \n29995  this is based on a french recipe but i changed...           10.0   \n29996  this is a traditional fresh plum cake, thought...           11.0   \n29997  this is a traditional late summer early fall s...            NaN   \n29998  this is a delicious soup that i originally fou...            NaN   \n29999  i've heard of the 'cookies by design' company,...           10.0   \n\n       description_length  \n0                     330  \n1                     255  \n2                      39  \n3                     154  \n4                     587  \n...                   ...  \n29995                 484  \n29996                 286  \n29997                 311  \n29998                 648  \n29999                 125  \n\n[30000 rows x 9 columns]",
            "text/html": "<div>\n<style scoped>\n    .dataframe tbody tr th:only-of-type {\n        vertical-align: middle;\n    }\n\n    .dataframe tbody tr th {\n        vertical-align: top;\n    }\n\n    .dataframe thead th {\n        text-align: right;\n    }\n</style>\n<table border=\"1\" class=\"dataframe\">\n  <thead>\n    <tr style=\"text-align: right;\">\n      <th></th>\n      <th>name</th>\n      <th>id</th>\n      <th>minutes</th>\n      <th>contributor_id</th>\n      <th>submitted</th>\n      <th>n_steps</th>\n      <th>description</th>\n      <th>n_ingredients</th>\n      <th>description_length</th>\n    </tr>\n  </thead>\n  <tbody>\n    <tr>\n      <th>0</th>\n      <td>George S At The Cove  Black Bean Soup</td>\n      <td>44123</td>\n      <td>90</td>\n      <td>35193</td>\n      <td>2002-10-25</td>\n      <td>NaN</td>\n      <td>an original recipe created by chef scott meska...</td>\n      <td>18.0</td>\n      <td>330</td>\n    </tr>\n    <tr>\n      <th>1</th>\n      <td>Healthy For Them  Yogurt Popsicles</td>\n      <td>67664</td>\n      <td>10</td>\n      <td>91970</td>\n      <td>2003-07-26</td>\n      <td>NaN</td>\n      <td>my children and their friends ask for my homem...</td>\n      <td>NaN</td>\n      <td>255</td>\n    </tr>\n    <tr>\n      <th>2</th>\n      <td>I Can T Believe It S Spinach</td>\n      <td>38798</td>\n      <td>30</td>\n      <td>1533</td>\n      <td>2002-08-29</td>\n      <td>NaN</td>\n      <td>these were so go, it surprised even me.</td>\n      <td>8.0</td>\n      <td>39</td>\n    </tr>\n    <tr>\n      <th>3</th>\n      <td>Italian  Gut Busters</td>\n      <td>35173</td>\n      <td>45</td>\n      <td>22724</td>\n      <td>2002-07-27</td>\n      <td>NaN</td>\n      <td>my sister-in-law made these for us at a family...</td>\n      <td>NaN</td>\n      <td>154</td>\n    </tr>\n    <tr>\n      <th>4</th>\n      <td>Love Is In The Air  Beef Fondue   Sauces</td>\n      <td>84797</td>\n      <td>25</td>\n      <td>4470</td>\n      <td>2004-02-23</td>\n      <td>4.0</td>\n      <td>i think a fondue is a very romantic casual din...</td>\n      <td>NaN</td>\n      <td>587</td>\n    </tr>\n    <tr>\n      <th>...</th>\n      <td>...</td>\n      <td>...</td>\n      <td>...</td>\n      <td>...</td>\n      <td>...</td>\n      <td>...</td>\n      <td>...</td>\n      <td>...</td>\n      <td>...</td>\n    </tr>\n    <tr>\n      <th>29995</th>\n      <td>Zurie S Holey Rustic Olive And Cheddar Bread</td>\n      <td>267661</td>\n      <td>80</td>\n      <td>200862</td>\n      <td>2007-11-25</td>\n      <td>16.0</td>\n      <td>this is based on a french recipe but i changed...</td>\n      <td>10.0</td>\n      <td>484</td>\n    </tr>\n    <tr>\n      <th>29996</th>\n      <td>Zwetschgenkuchen  Bavarian Plum Cake</td>\n      <td>386977</td>\n      <td>240</td>\n      <td>177443</td>\n      <td>2009-08-24</td>\n      <td>NaN</td>\n      <td>this is a traditional fresh plum cake, thought...</td>\n      <td>11.0</td>\n      <td>286</td>\n    </tr>\n    <tr>\n      <th>29997</th>\n      <td>Zwiebelkuchen   Southwest German Onion Cake</td>\n      <td>103312</td>\n      <td>75</td>\n      <td>161745</td>\n      <td>2004-11-03</td>\n      <td>NaN</td>\n      <td>this is a traditional late summer early fall s...</td>\n      <td>NaN</td>\n      <td>311</td>\n    </tr>\n    <tr>\n      <th>29998</th>\n      <td>Zydeco Soup</td>\n      <td>486161</td>\n      <td>60</td>\n      <td>227978</td>\n      <td>2012-08-29</td>\n      <td>NaN</td>\n      <td>this is a delicious soup that i originally fou...</td>\n      <td>NaN</td>\n      <td>648</td>\n    </tr>\n    <tr>\n      <th>29999</th>\n      <td>Cookies By Design   Cookies On A Stick</td>\n      <td>298512</td>\n      <td>29</td>\n      <td>506822</td>\n      <td>2008-04-15</td>\n      <td>9.0</td>\n      <td>i've heard of the 'cookies by design' company,...</td>\n      <td>10.0</td>\n      <td>125</td>\n    </tr>\n  </tbody>\n</table>\n<p>30000 rows × 9 columns</p>\n</div>"
          },
          "metadata": {}
        }
      ]
    },
    {
      "cell_type": "markdown",
      "source": "3.3 Добавьте в таблицу `recipes` столбец `name_word_count`, в котором хранится количество слов из названии рецепта (считайте, что слова в названии разделяются только пробелами). Обратите внимание, что между словами может располагаться несколько пробелов подряд.",
      "metadata": {}
    },
    {
      "cell_type": "code",
      "source": "recipes['new-word_count']=recipes['name'].str.split().str.len()\nrecipes",
      "metadata": {
        "trusted": true
      },
      "execution_count": 30,
      "outputs": [
        {
          "execution_count": 30,
          "output_type": "execute_result",
          "data": {
            "text/plain": "                                               name      id  minutes  \\\n0             George S At The Cove  Black Bean Soup   44123       90   \n1                Healthy For Them  Yogurt Popsicles   67664       10   \n2                      I Can T Believe It S Spinach   38798       30   \n3                              Italian  Gut Busters   35173       45   \n4          Love Is In The Air  Beef Fondue   Sauces   84797       25   \n...                                             ...     ...      ...   \n29995  Zurie S Holey Rustic Olive And Cheddar Bread  267661       80   \n29996          Zwetschgenkuchen  Bavarian Plum Cake  386977      240   \n29997   Zwiebelkuchen   Southwest German Onion Cake  103312       75   \n29998                                   Zydeco Soup  486161       60   \n29999        Cookies By Design   Cookies On A Stick  298512       29   \n\n       contributor_id  submitted  n_steps  \\\n0               35193 2002-10-25      NaN   \n1               91970 2003-07-26      NaN   \n2                1533 2002-08-29      NaN   \n3               22724 2002-07-27      NaN   \n4                4470 2004-02-23      4.0   \n...               ...        ...      ...   \n29995          200862 2007-11-25     16.0   \n29996          177443 2009-08-24      NaN   \n29997          161745 2004-11-03      NaN   \n29998          227978 2012-08-29      NaN   \n29999          506822 2008-04-15      9.0   \n\n                                             description  n_ingredients  \\\n0      an original recipe created by chef scott meska...           18.0   \n1      my children and their friends ask for my homem...            NaN   \n2                these were so go, it surprised even me.            8.0   \n3      my sister-in-law made these for us at a family...            NaN   \n4      i think a fondue is a very romantic casual din...            NaN   \n...                                                  ...            ...   \n29995  this is based on a french recipe but i changed...           10.0   \n29996  this is a traditional fresh plum cake, thought...           11.0   \n29997  this is a traditional late summer early fall s...            NaN   \n29998  this is a delicious soup that i originally fou...            NaN   \n29999  i've heard of the 'cookies by design' company,...           10.0   \n\n       description_length  new-word_count  \n0                     330               8  \n1                     255               5  \n2                      39               7  \n3                     154               3  \n4                     587               8  \n...                   ...             ...  \n29995                 484               8  \n29996                 286               4  \n29997                 311               5  \n29998                 648               2  \n29999                 125               7  \n\n[30000 rows x 10 columns]",
            "text/html": "<div>\n<style scoped>\n    .dataframe tbody tr th:only-of-type {\n        vertical-align: middle;\n    }\n\n    .dataframe tbody tr th {\n        vertical-align: top;\n    }\n\n    .dataframe thead th {\n        text-align: right;\n    }\n</style>\n<table border=\"1\" class=\"dataframe\">\n  <thead>\n    <tr style=\"text-align: right;\">\n      <th></th>\n      <th>name</th>\n      <th>id</th>\n      <th>minutes</th>\n      <th>contributor_id</th>\n      <th>submitted</th>\n      <th>n_steps</th>\n      <th>description</th>\n      <th>n_ingredients</th>\n      <th>description_length</th>\n      <th>new-word_count</th>\n    </tr>\n  </thead>\n  <tbody>\n    <tr>\n      <th>0</th>\n      <td>George S At The Cove  Black Bean Soup</td>\n      <td>44123</td>\n      <td>90</td>\n      <td>35193</td>\n      <td>2002-10-25</td>\n      <td>NaN</td>\n      <td>an original recipe created by chef scott meska...</td>\n      <td>18.0</td>\n      <td>330</td>\n      <td>8</td>\n    </tr>\n    <tr>\n      <th>1</th>\n      <td>Healthy For Them  Yogurt Popsicles</td>\n      <td>67664</td>\n      <td>10</td>\n      <td>91970</td>\n      <td>2003-07-26</td>\n      <td>NaN</td>\n      <td>my children and their friends ask for my homem...</td>\n      <td>NaN</td>\n      <td>255</td>\n      <td>5</td>\n    </tr>\n    <tr>\n      <th>2</th>\n      <td>I Can T Believe It S Spinach</td>\n      <td>38798</td>\n      <td>30</td>\n      <td>1533</td>\n      <td>2002-08-29</td>\n      <td>NaN</td>\n      <td>these were so go, it surprised even me.</td>\n      <td>8.0</td>\n      <td>39</td>\n      <td>7</td>\n    </tr>\n    <tr>\n      <th>3</th>\n      <td>Italian  Gut Busters</td>\n      <td>35173</td>\n      <td>45</td>\n      <td>22724</td>\n      <td>2002-07-27</td>\n      <td>NaN</td>\n      <td>my sister-in-law made these for us at a family...</td>\n      <td>NaN</td>\n      <td>154</td>\n      <td>3</td>\n    </tr>\n    <tr>\n      <th>4</th>\n      <td>Love Is In The Air  Beef Fondue   Sauces</td>\n      <td>84797</td>\n      <td>25</td>\n      <td>4470</td>\n      <td>2004-02-23</td>\n      <td>4.0</td>\n      <td>i think a fondue is a very romantic casual din...</td>\n      <td>NaN</td>\n      <td>587</td>\n      <td>8</td>\n    </tr>\n    <tr>\n      <th>...</th>\n      <td>...</td>\n      <td>...</td>\n      <td>...</td>\n      <td>...</td>\n      <td>...</td>\n      <td>...</td>\n      <td>...</td>\n      <td>...</td>\n      <td>...</td>\n      <td>...</td>\n    </tr>\n    <tr>\n      <th>29995</th>\n      <td>Zurie S Holey Rustic Olive And Cheddar Bread</td>\n      <td>267661</td>\n      <td>80</td>\n      <td>200862</td>\n      <td>2007-11-25</td>\n      <td>16.0</td>\n      <td>this is based on a french recipe but i changed...</td>\n      <td>10.0</td>\n      <td>484</td>\n      <td>8</td>\n    </tr>\n    <tr>\n      <th>29996</th>\n      <td>Zwetschgenkuchen  Bavarian Plum Cake</td>\n      <td>386977</td>\n      <td>240</td>\n      <td>177443</td>\n      <td>2009-08-24</td>\n      <td>NaN</td>\n      <td>this is a traditional fresh plum cake, thought...</td>\n      <td>11.0</td>\n      <td>286</td>\n      <td>4</td>\n    </tr>\n    <tr>\n      <th>29997</th>\n      <td>Zwiebelkuchen   Southwest German Onion Cake</td>\n      <td>103312</td>\n      <td>75</td>\n      <td>161745</td>\n      <td>2004-11-03</td>\n      <td>NaN</td>\n      <td>this is a traditional late summer early fall s...</td>\n      <td>NaN</td>\n      <td>311</td>\n      <td>5</td>\n    </tr>\n    <tr>\n      <th>29998</th>\n      <td>Zydeco Soup</td>\n      <td>486161</td>\n      <td>60</td>\n      <td>227978</td>\n      <td>2012-08-29</td>\n      <td>NaN</td>\n      <td>this is a delicious soup that i originally fou...</td>\n      <td>NaN</td>\n      <td>648</td>\n      <td>2</td>\n    </tr>\n    <tr>\n      <th>29999</th>\n      <td>Cookies By Design   Cookies On A Stick</td>\n      <td>298512</td>\n      <td>29</td>\n      <td>506822</td>\n      <td>2008-04-15</td>\n      <td>9.0</td>\n      <td>i've heard of the 'cookies by design' company,...</td>\n      <td>10.0</td>\n      <td>125</td>\n      <td>7</td>\n    </tr>\n  </tbody>\n</table>\n<p>30000 rows × 10 columns</p>\n</div>"
          },
          "metadata": {}
        }
      ]
    },
    {
      "cell_type": "markdown",
      "source": "### Группировки таблиц `pd.DataFrame`",
      "metadata": {}
    },
    {
      "cell_type": "markdown",
      "source": "4.1 Посчитайте количество рецептов, представленных каждым из участников (`contributor_id`). Какой участник добавил максимальное кол-во рецептов?",
      "metadata": {}
    },
    {
      "cell_type": "code",
      "source": "recipes.groupby('contributor_id')['id'].count().idxmax()",
      "metadata": {
        "trusted": true
      },
      "execution_count": 44,
      "outputs": [
        {
          "execution_count": 44,
          "output_type": "execute_result",
          "data": {
            "text/plain": "89831"
          },
          "metadata": {}
        }
      ]
    },
    {
      "cell_type": "markdown",
      "source": "4.2 Посчитайте средний рейтинг к каждому из рецептов. Для скольких рецептов отсутствуют отзывы? Обратите внимание, что отзыв с нулевым рейтингом или не заполненным текстовым описанием не считается отсутствующим.",
      "metadata": {}
    },
    {
      "cell_type": "code",
      "source": "print(\"Кол-во рецептов без отзывов:\", len(recipes[~recipes['id'].isin(reviews['recipe_id'])]))",
      "metadata": {
        "trusted": true
      },
      "execution_count": 46,
      "outputs": [
        {
          "name": "stdout",
          "text": "Кол-во рецептов без отзывов: 1900\n",
          "output_type": "stream"
        }
      ]
    },
    {
      "cell_type": "markdown",
      "source": "4.3 Посчитайте количество рецептов с разбивкой по годам создания.",
      "metadata": {}
    },
    {
      "cell_type": "code",
      "source": "recipes.groupby(recipes[\"submitted\"].dt.year)['name'].count()",
      "metadata": {
        "trusted": true
      },
      "execution_count": 47,
      "outputs": [
        {
          "execution_count": 47,
          "output_type": "execute_result",
          "data": {
            "text/plain": "submitted\n1999     275\n2000     104\n2001     589\n2002    2644\n2003    2334\n2004    2153\n2005    3130\n2006    3473\n2007    4429\n2008    4029\n2009    2963\n2010    1538\n2011     922\n2012     659\n2013     490\n2014     139\n2015      42\n2016      24\n2017      39\n2018      24\nName: name, dtype: int64"
          },
          "metadata": {}
        }
      ]
    },
    {
      "cell_type": "markdown",
      "source": "### Объединение таблиц `pd.DataFrame`",
      "metadata": {}
    },
    {
      "cell_type": "markdown",
      "source": "5.1 При помощи объединения таблиц, создайте `DataFrame`, состоящий из четырех столбцов: `id`, `name`, `user_id`, `rating`. Рецепты, на которые не оставлен ни один отзыв, должны отсутствовать в полученной таблице. Подтвердите правильность работы вашего кода, выбрав рецепт, не имеющий отзывов, и попытавшись найти строку, соответствующую этому рецепту, в полученном `DataFrame`.",
      "metadata": {}
    },
    {
      "cell_type": "code",
      "source": "DataFrame = pd.merge(recipes, reviews, on=None, left_on=\"id\", right_on=\"recipe_id\", how='inner')\nDataFrame = DataFrame.drop(['minutes', 'contributor_id', 'submitted', 'n_steps', 'description',\n                           'n_ingredients', 'description_length', 'new-word_count', 'index', \n                           'Unnamed: 0', 'recipe_id', 'date', 'review'], axis=1)\nprint(DataFrame[DataFrame['id']==637])\nDataFrame",
      "metadata": {
        "trusted": true
      },
      "execution_count": 56,
      "outputs": [
        {
          "name": "stdout",
          "text": "Empty DataFrame\nColumns: [name, id, user_id, rating]\nIndex: []\n",
          "output_type": "stream"
        },
        {
          "execution_count": 56,
          "output_type": "execute_result",
          "data": {
            "text/plain": "                                          name      id  user_id  rating\n0        George S At The Cove  Black Bean Soup   44123   743566       5\n1        George S At The Cove  Black Bean Soup   44123    76503       5\n2        George S At The Cove  Black Bean Soup   44123    34206       5\n3           Healthy For Them  Yogurt Popsicles   67664   494084       5\n4           Healthy For Them  Yogurt Popsicles   67664   303445       5\n...                                        ...     ...      ...     ...\n126691                             Zydeco Soup  486161   305531       5\n126692                             Zydeco Soup  486161  1271506       5\n126693                             Zydeco Soup  486161   724631       5\n126694                             Zydeco Soup  486161   133174       5\n126695  Cookies By Design   Cookies On A Stick  298512   804234       1\n\n[126696 rows x 4 columns]",
            "text/html": "<div>\n<style scoped>\n    .dataframe tbody tr th:only-of-type {\n        vertical-align: middle;\n    }\n\n    .dataframe tbody tr th {\n        vertical-align: top;\n    }\n\n    .dataframe thead th {\n        text-align: right;\n    }\n</style>\n<table border=\"1\" class=\"dataframe\">\n  <thead>\n    <tr style=\"text-align: right;\">\n      <th></th>\n      <th>name</th>\n      <th>id</th>\n      <th>user_id</th>\n      <th>rating</th>\n    </tr>\n  </thead>\n  <tbody>\n    <tr>\n      <th>0</th>\n      <td>George S At The Cove  Black Bean Soup</td>\n      <td>44123</td>\n      <td>743566</td>\n      <td>5</td>\n    </tr>\n    <tr>\n      <th>1</th>\n      <td>George S At The Cove  Black Bean Soup</td>\n      <td>44123</td>\n      <td>76503</td>\n      <td>5</td>\n    </tr>\n    <tr>\n      <th>2</th>\n      <td>George S At The Cove  Black Bean Soup</td>\n      <td>44123</td>\n      <td>34206</td>\n      <td>5</td>\n    </tr>\n    <tr>\n      <th>3</th>\n      <td>Healthy For Them  Yogurt Popsicles</td>\n      <td>67664</td>\n      <td>494084</td>\n      <td>5</td>\n    </tr>\n    <tr>\n      <th>4</th>\n      <td>Healthy For Them  Yogurt Popsicles</td>\n      <td>67664</td>\n      <td>303445</td>\n      <td>5</td>\n    </tr>\n    <tr>\n      <th>...</th>\n      <td>...</td>\n      <td>...</td>\n      <td>...</td>\n      <td>...</td>\n    </tr>\n    <tr>\n      <th>126691</th>\n      <td>Zydeco Soup</td>\n      <td>486161</td>\n      <td>305531</td>\n      <td>5</td>\n    </tr>\n    <tr>\n      <th>126692</th>\n      <td>Zydeco Soup</td>\n      <td>486161</td>\n      <td>1271506</td>\n      <td>5</td>\n    </tr>\n    <tr>\n      <th>126693</th>\n      <td>Zydeco Soup</td>\n      <td>486161</td>\n      <td>724631</td>\n      <td>5</td>\n    </tr>\n    <tr>\n      <th>126694</th>\n      <td>Zydeco Soup</td>\n      <td>486161</td>\n      <td>133174</td>\n      <td>5</td>\n    </tr>\n    <tr>\n      <th>126695</th>\n      <td>Cookies By Design   Cookies On A Stick</td>\n      <td>298512</td>\n      <td>804234</td>\n      <td>1</td>\n    </tr>\n  </tbody>\n</table>\n<p>126696 rows × 4 columns</p>\n</div>"
          },
          "metadata": {}
        }
      ]
    },
    {
      "cell_type": "markdown",
      "source": "5.2 При помощи объединения таблиц и группировок, создайте `DataFrame`, состоящий из трех столбцов: `recipe_id`, `name`, `review_count`, где столбец `review_count` содержит кол-во отзывов, оставленных на рецепт `recipe_id`. У рецептов, на которые не оставлен ни один отзыв, в столбце `review_count` должен быть указан 0. Подтвердите правильность работы вашего кода, выбрав рецепт, не имеющий отзывов, и найдя строку, соответствующую этому рецепту, в полученном `DataFrame`.",
      "metadata": {}
    },
    {
      "cell_type": "code",
      "source": "new_recipes = recipes.rename(columns={'id': 'recipe_id'})\nreview_count = reviews.groupby('recipe_id', as_index=False)['review'].count()\nrecipes_reviews = pd.merge(\n                    new_recipes[['recipe_id', 'name']],\n                    review_count,\n                    how='left'\n                ).fillna(0)\n\nrecipes_reviews = recipes_reviews.rename(columns={'review': 'review_count'})\nprint(recipes_reviews)\n\nno_reviews1 = new_recipes[~new_recipes['recipe_id'].isin(reviews['recipe_id'])]\n\nrecipe_without_reviews = no_reviews1.sample()\nprint(recipe_without_reviews.isin(recipes_reviews)['recipe_id'])",
      "metadata": {
        "trusted": true
      },
      "execution_count": 57,
      "outputs": [
        {
          "name": "stdout",
          "text": "       recipe_id                                          name  review_count\n0          44123         George S At The Cove  Black Bean Soup           3.0\n1          67664            Healthy For Them  Yogurt Popsicles           8.0\n2          38798                  I Can T Believe It S Spinach           3.0\n3          35173                          Italian  Gut Busters           1.0\n4          84797      Love Is In The Air  Beef Fondue   Sauces           8.0\n...          ...                                           ...           ...\n29995     267661  Zurie S Holey Rustic Olive And Cheddar Bread           4.0\n29996     386977          Zwetschgenkuchen  Bavarian Plum Cake           2.0\n29997     103312   Zwiebelkuchen   Southwest German Onion Cake           6.0\n29998     486161                                   Zydeco Soup           6.0\n29999     298512        Cookies By Design   Cookies On A Stick           1.0\n\n[30000 rows x 3 columns]\n19706    True\nName: recipe_id, dtype: bool\n",
          "output_type": "stream"
        }
      ]
    },
    {
      "cell_type": "markdown",
      "source": "5.3. Выясните, рецепты, добавленные в каком году, имеют наименьший средний рейтинг?",
      "metadata": {}
    },
    {
      "cell_type": "code",
      "source": "min_data = pd.merge(recipes, reviews, left_on ='id', right_on = 'recipe_id')\nmin_year = min_data.groupby(pd.Grouper(key='submitted', freq='Y'))['rating'].mean().idxmin().year\nf'Наименьший средний рейтинг у {min_year} года'",
      "metadata": {
        "trusted": true
      },
      "execution_count": 66,
      "outputs": [
        {
          "execution_count": 66,
          "output_type": "execute_result",
          "data": {
            "text/plain": "'Наименьший средний рейтинг у 2017 года'"
          },
          "metadata": {}
        }
      ]
    },
    {
      "cell_type": "markdown",
      "source": "### Сохранение таблиц `pd.DataFrame`",
      "metadata": {}
    },
    {
      "cell_type": "markdown",
      "source": "6.1 Отсортируйте таблицу в порядке убывания величины столбца `name_word_count` и сохраните результаты выполнения заданий 3.1-3.3 в csv файл. ",
      "metadata": {}
    },
    {
      "cell_type": "code",
      "source": "recipes = recipes.sort_values(by=['new-word_count'], ascending=False)#name_word_count='new-word_count' у меня)) \nrecipes.to_csv('recipes_result.csv', sep=',')",
      "metadata": {
        "trusted": true
      },
      "execution_count": 71,
      "outputs": []
    },
    {
      "cell_type": "markdown",
      "source": "6.2 Воспользовавшись `pd.ExcelWriter`, cохраните результаты 5.1 и 5.2 в файл: на лист с названием `Рецепты с оценками` сохраните результаты выполнения 5.1; на лист с названием `Количество отзывов по рецептам` сохраните результаты выполнения 5.2.",
      "metadata": {}
    },
    {
      "cell_type": "code",
      "source": "with pd.ExcelWriter('new_datasets.xlsx', mode='a+') as writer:\n    recipe_rating.to_excel(writer, sheet_name='Рецепты с оценками', index=False)\n    reviews_count_df.to_excel(writer, sheet_name='Количество отзывов по рецептам', index=False)\n    writer.save()",
      "metadata": {},
      "execution_count": null,
      "outputs": []
    }
  ]
}